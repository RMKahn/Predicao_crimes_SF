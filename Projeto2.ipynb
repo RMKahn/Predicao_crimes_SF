{
 "cells": [
  {
   "cell_type": "markdown",
   "metadata": {},
   "source": [
    "# Projeto 2 de Ciência dos Dados - Predição de crimes em São Francisco"
   ]
  },
  {
   "cell_type": "markdown",
   "metadata": {},
   "source": [
    "#### Turma 2b\n",
    "Rafael Kahn<br>\n",
    "Hélio Zaia<br>\n",
    "Gabriel Parfan<br>"
   ]
  },
  {
   "cell_type": "markdown",
   "metadata": {},
   "source": [
    "## Introdução"
   ]
  },
  {
   "cell_type": "markdown",
   "metadata": {},
   "source": [
    "## Objetivo"
   ]
  },
  {
   "cell_type": "markdown",
   "metadata": {},
   "source": [
    "## Preparo do dataset"
   ]
  },
  {
   "cell_type": "code",
   "execution_count": 1,
   "metadata": {},
   "outputs": [],
   "source": [
    "#Bibliotecas\n",
    "import math\n",
    "import matplotlib.pyplot as plt\n",
    "import pandas as pd\n",
    "import numpy as np\n",
    "from scipy import stats\n",
    "from scipy.stats import norm, uniform, probplot\n",
    "import seaborn"
   ]
  },
  {
   "cell_type": "code",
   "execution_count": 2,
   "metadata": {
    "scrolled": true
   },
   "outputs": [
    {
     "data": {
      "text/html": [
       "<div>\n",
       "<style scoped>\n",
       "    .dataframe tbody tr th:only-of-type {\n",
       "        vertical-align: middle;\n",
       "    }\n",
       "\n",
       "    .dataframe tbody tr th {\n",
       "        vertical-align: top;\n",
       "    }\n",
       "\n",
       "    .dataframe thead th {\n",
       "        text-align: right;\n",
       "    }\n",
       "</style>\n",
       "<table border=\"1\" class=\"dataframe\">\n",
       "  <thead>\n",
       "    <tr style=\"text-align: right;\">\n",
       "      <th></th>\n",
       "      <th>IncidntNum</th>\n",
       "      <th>Category</th>\n",
       "      <th>Descript</th>\n",
       "      <th>DayOfWeek</th>\n",
       "      <th>Date</th>\n",
       "      <th>Time</th>\n",
       "      <th>PdDistrict</th>\n",
       "      <th>Resolution</th>\n",
       "      <th>Address</th>\n",
       "      <th>X</th>\n",
       "      <th>Y</th>\n",
       "      <th>Location</th>\n",
       "      <th>PdId</th>\n",
       "    </tr>\n",
       "  </thead>\n",
       "  <tbody>\n",
       "    <tr>\n",
       "      <th>0</th>\n",
       "      <td>120058272</td>\n",
       "      <td>WEAPON LAWS</td>\n",
       "      <td>POSS OF PROHIBITED WEAPON</td>\n",
       "      <td>Friday</td>\n",
       "      <td>01/29/2016 12:00:00 AM</td>\n",
       "      <td>11:00</td>\n",
       "      <td>SOUTHERN</td>\n",
       "      <td>ARREST, BOOKED</td>\n",
       "      <td>800 Block of BRYANT ST</td>\n",
       "      <td>-122.403405</td>\n",
       "      <td>37.775421</td>\n",
       "      <td>(37.775420706711, -122.403404791479)</td>\n",
       "      <td>12005827212120</td>\n",
       "    </tr>\n",
       "    <tr>\n",
       "      <th>1</th>\n",
       "      <td>120058272</td>\n",
       "      <td>WEAPON LAWS</td>\n",
       "      <td>FIREARM, LOADED, IN VEHICLE, POSSESSION OR USE</td>\n",
       "      <td>Friday</td>\n",
       "      <td>01/29/2016 12:00:00 AM</td>\n",
       "      <td>11:00</td>\n",
       "      <td>SOUTHERN</td>\n",
       "      <td>ARREST, BOOKED</td>\n",
       "      <td>800 Block of BRYANT ST</td>\n",
       "      <td>-122.403405</td>\n",
       "      <td>37.775421</td>\n",
       "      <td>(37.775420706711, -122.403404791479)</td>\n",
       "      <td>12005827212168</td>\n",
       "    </tr>\n",
       "    <tr>\n",
       "      <th>2</th>\n",
       "      <td>141059263</td>\n",
       "      <td>WARRANTS</td>\n",
       "      <td>WARRANT ARREST</td>\n",
       "      <td>Monday</td>\n",
       "      <td>04/25/2016 12:00:00 AM</td>\n",
       "      <td>14:59</td>\n",
       "      <td>BAYVIEW</td>\n",
       "      <td>ARREST, BOOKED</td>\n",
       "      <td>KEITH ST / SHAFTER AV</td>\n",
       "      <td>-122.388856</td>\n",
       "      <td>37.729981</td>\n",
       "      <td>(37.7299809672996, -122.388856204292)</td>\n",
       "      <td>14105926363010</td>\n",
       "    </tr>\n",
       "    <tr>\n",
       "      <th>3</th>\n",
       "      <td>160013662</td>\n",
       "      <td>NON-CRIMINAL</td>\n",
       "      <td>LOST PROPERTY</td>\n",
       "      <td>Tuesday</td>\n",
       "      <td>01/05/2016 12:00:00 AM</td>\n",
       "      <td>23:50</td>\n",
       "      <td>TENDERLOIN</td>\n",
       "      <td>NONE</td>\n",
       "      <td>JONES ST / OFARRELL ST</td>\n",
       "      <td>-122.412971</td>\n",
       "      <td>37.785788</td>\n",
       "      <td>(37.7857883766888, -122.412970537591)</td>\n",
       "      <td>16001366271000</td>\n",
       "    </tr>\n",
       "    <tr>\n",
       "      <th>4</th>\n",
       "      <td>160002740</td>\n",
       "      <td>NON-CRIMINAL</td>\n",
       "      <td>LOST PROPERTY</td>\n",
       "      <td>Friday</td>\n",
       "      <td>01/01/2016 12:00:00 AM</td>\n",
       "      <td>00:30</td>\n",
       "      <td>MISSION</td>\n",
       "      <td>NONE</td>\n",
       "      <td>16TH ST / MISSION ST</td>\n",
       "      <td>-122.419672</td>\n",
       "      <td>37.765050</td>\n",
       "      <td>(37.7650501214668, -122.419671780296)</td>\n",
       "      <td>16000274071000</td>\n",
       "    </tr>\n",
       "    <tr>\n",
       "      <th>5</th>\n",
       "      <td>160002869</td>\n",
       "      <td>ASSAULT</td>\n",
       "      <td>BATTERY</td>\n",
       "      <td>Friday</td>\n",
       "      <td>01/01/2016 12:00:00 AM</td>\n",
       "      <td>21:35</td>\n",
       "      <td>NORTHERN</td>\n",
       "      <td>NONE</td>\n",
       "      <td>1700 Block of BUSH ST</td>\n",
       "      <td>-122.426077</td>\n",
       "      <td>37.788019</td>\n",
       "      <td>(37.788018555829, -122.426077177375)</td>\n",
       "      <td>16000286904134</td>\n",
       "    </tr>\n",
       "    <tr>\n",
       "      <th>6</th>\n",
       "      <td>160003130</td>\n",
       "      <td>OTHER OFFENSES</td>\n",
       "      <td>PAROLE VIOLATION</td>\n",
       "      <td>Saturday</td>\n",
       "      <td>01/02/2016 12:00:00 AM</td>\n",
       "      <td>00:04</td>\n",
       "      <td>SOUTHERN</td>\n",
       "      <td>ARREST, BOOKED</td>\n",
       "      <td>MARY ST / HOWARD ST</td>\n",
       "      <td>-122.405721</td>\n",
       "      <td>37.780879</td>\n",
       "      <td>(37.7808789360214, -122.405721454567)</td>\n",
       "      <td>16000313026150</td>\n",
       "    </tr>\n",
       "    <tr>\n",
       "      <th>7</th>\n",
       "      <td>160003259</td>\n",
       "      <td>NON-CRIMINAL</td>\n",
       "      <td>FIRE REPORT</td>\n",
       "      <td>Saturday</td>\n",
       "      <td>01/02/2016 12:00:00 AM</td>\n",
       "      <td>01:02</td>\n",
       "      <td>TENDERLOIN</td>\n",
       "      <td>NONE</td>\n",
       "      <td>200 Block of EDDY ST</td>\n",
       "      <td>-122.411778</td>\n",
       "      <td>37.783981</td>\n",
       "      <td>(37.7839805592634, -122.411778295992)</td>\n",
       "      <td>16000325968000</td>\n",
       "    </tr>\n",
       "    <tr>\n",
       "      <th>8</th>\n",
       "      <td>160003970</td>\n",
       "      <td>WARRANTS</td>\n",
       "      <td>WARRANT ARREST</td>\n",
       "      <td>Saturday</td>\n",
       "      <td>01/02/2016 12:00:00 AM</td>\n",
       "      <td>12:21</td>\n",
       "      <td>SOUTHERN</td>\n",
       "      <td>ARREST, BOOKED</td>\n",
       "      <td>4TH ST / BERRY ST</td>\n",
       "      <td>-122.393357</td>\n",
       "      <td>37.775788</td>\n",
       "      <td>(37.7757876218293, -122.393357241451)</td>\n",
       "      <td>16000397063010</td>\n",
       "    </tr>\n",
       "    <tr>\n",
       "      <th>9</th>\n",
       "      <td>160003641</td>\n",
       "      <td>MISSING PERSON</td>\n",
       "      <td>FOUND PERSON</td>\n",
       "      <td>Friday</td>\n",
       "      <td>01/01/2016 12:00:00 AM</td>\n",
       "      <td>10:06</td>\n",
       "      <td>BAYVIEW</td>\n",
       "      <td>NONE</td>\n",
       "      <td>100 Block of CAMERON WY</td>\n",
       "      <td>-122.387182</td>\n",
       "      <td>37.720967</td>\n",
       "      <td>(37.7209669615499, -122.387181635995)</td>\n",
       "      <td>16000364175000</td>\n",
       "    </tr>\n",
       "  </tbody>\n",
       "</table>\n",
       "</div>"
      ],
      "text/plain": [
       "   IncidntNum        Category                                        Descript  \\\n",
       "0   120058272     WEAPON LAWS                       POSS OF PROHIBITED WEAPON   \n",
       "1   120058272     WEAPON LAWS  FIREARM, LOADED, IN VEHICLE, POSSESSION OR USE   \n",
       "2   141059263        WARRANTS                                  WARRANT ARREST   \n",
       "3   160013662    NON-CRIMINAL                                   LOST PROPERTY   \n",
       "4   160002740    NON-CRIMINAL                                   LOST PROPERTY   \n",
       "5   160002869         ASSAULT                                         BATTERY   \n",
       "6   160003130  OTHER OFFENSES                                PAROLE VIOLATION   \n",
       "7   160003259    NON-CRIMINAL                                     FIRE REPORT   \n",
       "8   160003970        WARRANTS                                  WARRANT ARREST   \n",
       "9   160003641  MISSING PERSON                                    FOUND PERSON   \n",
       "\n",
       "  DayOfWeek                    Date   Time  PdDistrict      Resolution  \\\n",
       "0    Friday  01/29/2016 12:00:00 AM  11:00    SOUTHERN  ARREST, BOOKED   \n",
       "1    Friday  01/29/2016 12:00:00 AM  11:00    SOUTHERN  ARREST, BOOKED   \n",
       "2    Monday  04/25/2016 12:00:00 AM  14:59     BAYVIEW  ARREST, BOOKED   \n",
       "3   Tuesday  01/05/2016 12:00:00 AM  23:50  TENDERLOIN            NONE   \n",
       "4    Friday  01/01/2016 12:00:00 AM  00:30     MISSION            NONE   \n",
       "5    Friday  01/01/2016 12:00:00 AM  21:35    NORTHERN            NONE   \n",
       "6  Saturday  01/02/2016 12:00:00 AM  00:04    SOUTHERN  ARREST, BOOKED   \n",
       "7  Saturday  01/02/2016 12:00:00 AM  01:02  TENDERLOIN            NONE   \n",
       "8  Saturday  01/02/2016 12:00:00 AM  12:21    SOUTHERN  ARREST, BOOKED   \n",
       "9    Friday  01/01/2016 12:00:00 AM  10:06     BAYVIEW            NONE   \n",
       "\n",
       "                   Address           X          Y  \\\n",
       "0   800 Block of BRYANT ST -122.403405  37.775421   \n",
       "1   800 Block of BRYANT ST -122.403405  37.775421   \n",
       "2    KEITH ST / SHAFTER AV -122.388856  37.729981   \n",
       "3   JONES ST / OFARRELL ST -122.412971  37.785788   \n",
       "4     16TH ST / MISSION ST -122.419672  37.765050   \n",
       "5    1700 Block of BUSH ST -122.426077  37.788019   \n",
       "6      MARY ST / HOWARD ST -122.405721  37.780879   \n",
       "7     200 Block of EDDY ST -122.411778  37.783981   \n",
       "8        4TH ST / BERRY ST -122.393357  37.775788   \n",
       "9  100 Block of CAMERON WY -122.387182  37.720967   \n",
       "\n",
       "                                Location            PdId  \n",
       "0   (37.775420706711, -122.403404791479)  12005827212120  \n",
       "1   (37.775420706711, -122.403404791479)  12005827212168  \n",
       "2  (37.7299809672996, -122.388856204292)  14105926363010  \n",
       "3  (37.7857883766888, -122.412970537591)  16001366271000  \n",
       "4  (37.7650501214668, -122.419671780296)  16000274071000  \n",
       "5   (37.788018555829, -122.426077177375)  16000286904134  \n",
       "6  (37.7808789360214, -122.405721454567)  16000313026150  \n",
       "7  (37.7839805592634, -122.411778295992)  16000325968000  \n",
       "8  (37.7757876218293, -122.393357241451)  16000397063010  \n",
       "9  (37.7209669615499, -122.387181635995)  16000364175000  "
      ]
     },
     "execution_count": 2,
     "metadata": {},
     "output_type": "execute_result"
    }
   ],
   "source": [
    "#Abrindo o dataset\n",
    "data = pd.read_csv(\"Crimes_SF.csv\")\n",
    "data.head(10)"
   ]
  },
  {
   "cell_type": "code",
   "execution_count": 3,
   "metadata": {
    "scrolled": true
   },
   "outputs": [
    {
     "data": {
      "text/plain": [
       "LARCENY/THEFT    40409\n",
       "ASSAULT          13577\n",
       "VANDALISM         8589\n",
       "VEHICLE THEFT     6419\n",
       "Name: Category, dtype: int64"
      ]
     },
     "execution_count": 3,
     "metadata": {},
     "output_type": "execute_result"
    }
   ],
   "source": [
    "#Limpeza Inicial\n",
    "#Deixando apenas os crimes mais relevantes (inicialmente 4)\n",
    "data_f = data[(data['Category'] == 'LARCENY/THEFT') | (data['Category'] == 'ASSAULT') | (data['Category'] == 'VANDALISM') | (data['Category'] == 'VEHICLE THEFT')]\n",
    "data_f.Category.value_counts()"
   ]
  },
  {
   "cell_type": "markdown",
   "metadata": {},
   "source": [
    "## Análise Exploratória\n"
   ]
  },
  {
   "cell_type": "code",
   "execution_count": 4,
   "metadata": {},
   "outputs": [
    {
     "data": {
      "image/png": "[encoded data removed]",
      "text/plain": [
       "<Figure size 432x288 with 1 Axes>"
      ]
     },
     "metadata": {
      "needs_background": "light"
     },
     "output_type": "display_data"
    }
   ],
   "source": [
    "data_f.groupby('DayOfWeek').Category.value_counts().plot.barh()\n",
    "plt.style.use(\"ggplot\")\n",
    "plt.grid(True)"
   ]
  },
  {
   "cell_type": "code",
   "execution_count": 5,
   "metadata": {},
   "outputs": [
    {
     "data": {
      "text/html": [
       "<div>\n",
       "<style scoped>\n",
       "    .dataframe tbody tr th:only-of-type {\n",
       "        vertical-align: middle;\n",
       "    }\n",
       "\n",
       "    .dataframe tbody tr th {\n",
       "        vertical-align: top;\n",
       "    }\n",
       "\n",
       "    .dataframe thead th {\n",
       "        text-align: right;\n",
       "    }\n",
       "</style>\n",
       "<table border=\"1\" class=\"dataframe\">\n",
       "  <thead>\n",
       "    <tr style=\"text-align: right;\">\n",
       "      <th>DayOfWeek</th>\n",
       "      <th>Friday</th>\n",
       "      <th>Monday</th>\n",
       "      <th>Saturday</th>\n",
       "      <th>Sunday</th>\n",
       "      <th>Thursday</th>\n",
       "      <th>Tuesday</th>\n",
       "      <th>Wednesday</th>\n",
       "    </tr>\n",
       "    <tr>\n",
       "      <th>Category</th>\n",
       "      <th></th>\n",
       "      <th></th>\n",
       "      <th></th>\n",
       "      <th></th>\n",
       "      <th></th>\n",
       "      <th></th>\n",
       "      <th></th>\n",
       "    </tr>\n",
       "  </thead>\n",
       "  <tbody>\n",
       "    <tr>\n",
       "      <th>ASSAULT</th>\n",
       "      <td>0.153348</td>\n",
       "      <td>0.137365</td>\n",
       "      <td>0.158872</td>\n",
       "      <td>0.144804</td>\n",
       "      <td>0.131251</td>\n",
       "      <td>0.137954</td>\n",
       "      <td>0.136407</td>\n",
       "    </tr>\n",
       "    <tr>\n",
       "      <th>LARCENY/THEFT</th>\n",
       "      <td>0.160286</td>\n",
       "      <td>0.136183</td>\n",
       "      <td>0.157985</td>\n",
       "      <td>0.136875</td>\n",
       "      <td>0.137049</td>\n",
       "      <td>0.135440</td>\n",
       "      <td>0.136183</td>\n",
       "    </tr>\n",
       "    <tr>\n",
       "      <th>VANDALISM</th>\n",
       "      <td>0.157178</td>\n",
       "      <td>0.140296</td>\n",
       "      <td>0.153918</td>\n",
       "      <td>0.148213</td>\n",
       "      <td>0.132146</td>\n",
       "      <td>0.132029</td>\n",
       "      <td>0.136221</td>\n",
       "    </tr>\n",
       "    <tr>\n",
       "      <th>VEHICLE THEFT</th>\n",
       "      <td>0.155632</td>\n",
       "      <td>0.140676</td>\n",
       "      <td>0.145817</td>\n",
       "      <td>0.142546</td>\n",
       "      <td>0.133354</td>\n",
       "      <td>0.137249</td>\n",
       "      <td>0.144727</td>\n",
       "    </tr>\n",
       "  </tbody>\n",
       "</table>\n",
       "</div>"
      ],
      "text/plain": [
       "DayOfWeek        Friday    Monday  Saturday    Sunday  Thursday   Tuesday  \\\n",
       "Category                                                                    \n",
       "ASSAULT        0.153348  0.137365  0.158872  0.144804  0.131251  0.137954   \n",
       "LARCENY/THEFT  0.160286  0.136183  0.157985  0.136875  0.137049  0.135440   \n",
       "VANDALISM      0.157178  0.140296  0.153918  0.148213  0.132146  0.132029   \n",
       "VEHICLE THEFT  0.155632  0.140676  0.145817  0.142546  0.133354  0.137249   \n",
       "\n",
       "DayOfWeek      Wednesday  \n",
       "Category                  \n",
       "ASSAULT         0.136407  \n",
       "LARCENY/THEFT   0.136183  \n",
       "VANDALISM       0.136221  \n",
       "VEHICLE THEFT   0.144727  "
      ]
     },
     "execution_count": 5,
     "metadata": {},
     "output_type": "execute_result"
    }
   ],
   "source": [
    "tabela_ds = pd.crosstab(data_f.Category, data_f.DayOfWeek, normalize = 'index')\n",
    "tabela_ds"
   ]
  },
  {
   "cell_type": "code",
   "execution_count": 6,
   "metadata": {},
   "outputs": [
    {
     "data": {
      "text/plain": [
       "<matplotlib.axes._subplots.AxesSubplot at 0x172ab22e7b8>"
      ]
     },
     "execution_count": 6,
     "metadata": {},
     "output_type": "execute_result"
    },
    {
     "data": {
      "image/png": "[encoded data removed]",
      "text/plain": [
       "<Figure size 432x288 with 2 Axes>"
      ]
     },
     "metadata": {},
     "output_type": "display_data"
    }
   ],
   "source": [
    "seaborn.heatmap(tabela_ds, annot = False, fmt = 'd',linecolor=\"blacK\",linewidth=.5,cmap='YlGnBu')"
   ]
  },
  {
   "cell_type": "code",
   "execution_count": null,
   "metadata": {},
   "outputs": [],
   "source": []
  },
  {
   "cell_type": "code",
   "execution_count": 7,
   "metadata": {},
   "outputs": [
    {
     "data": {
      "text/html": [
       "<div>\n",
       "<style scoped>\n",
       "    .dataframe tbody tr th:only-of-type {\n",
       "        vertical-align: middle;\n",
       "    }\n",
       "\n",
       "    .dataframe tbody tr th {\n",
       "        vertical-align: top;\n",
       "    }\n",
       "\n",
       "    .dataframe thead th {\n",
       "        text-align: right;\n",
       "    }\n",
       "</style>\n",
       "<table border=\"1\" class=\"dataframe\">\n",
       "  <thead>\n",
       "    <tr style=\"text-align: right;\">\n",
       "      <th>Time</th>\n",
       "      <th>00:01</th>\n",
       "      <th>00:02</th>\n",
       "      <th>00:03</th>\n",
       "      <th>00:04</th>\n",
       "      <th>00:05</th>\n",
       "      <th>00:06</th>\n",
       "      <th>00:07</th>\n",
       "      <th>00:08</th>\n",
       "      <th>00:09</th>\n",
       "      <th>00:10</th>\n",
       "      <th>...</th>\n",
       "      <th>23:50</th>\n",
       "      <th>23:51</th>\n",
       "      <th>23:52</th>\n",
       "      <th>23:53</th>\n",
       "      <th>23:54</th>\n",
       "      <th>23:55</th>\n",
       "      <th>23:56</th>\n",
       "      <th>23:57</th>\n",
       "      <th>23:58</th>\n",
       "      <th>23:59</th>\n",
       "    </tr>\n",
       "    <tr>\n",
       "      <th>Category</th>\n",
       "      <th></th>\n",
       "      <th></th>\n",
       "      <th></th>\n",
       "      <th></th>\n",
       "      <th></th>\n",
       "      <th></th>\n",
       "      <th></th>\n",
       "      <th></th>\n",
       "      <th></th>\n",
       "      <th></th>\n",
       "      <th></th>\n",
       "      <th></th>\n",
       "      <th></th>\n",
       "      <th></th>\n",
       "      <th></th>\n",
       "      <th></th>\n",
       "      <th></th>\n",
       "      <th></th>\n",
       "      <th></th>\n",
       "      <th></th>\n",
       "      <th></th>\n",
       "    </tr>\n",
       "  </thead>\n",
       "  <tbody>\n",
       "    <tr>\n",
       "      <th>ASSAULT</th>\n",
       "      <td>0.015762</td>\n",
       "      <td>0.000368</td>\n",
       "      <td>0.000589</td>\n",
       "      <td>0.000074</td>\n",
       "      <td>0.001105</td>\n",
       "      <td>0.000295</td>\n",
       "      <td>0.000295</td>\n",
       "      <td>0.000884</td>\n",
       "      <td>0.000074</td>\n",
       "      <td>0.001178</td>\n",
       "      <td>...</td>\n",
       "      <td>0.001841</td>\n",
       "      <td>0.000884</td>\n",
       "      <td>0.000442</td>\n",
       "      <td>0.000147</td>\n",
       "      <td>0.000442</td>\n",
       "      <td>0.000663</td>\n",
       "      <td>0.000074</td>\n",
       "      <td>0.000074</td>\n",
       "      <td>0.000368</td>\n",
       "      <td>0.000663</td>\n",
       "    </tr>\n",
       "    <tr>\n",
       "      <th>LARCENY/THEFT</th>\n",
       "      <td>0.018709</td>\n",
       "      <td>0.000173</td>\n",
       "      <td>0.000124</td>\n",
       "      <td>0.000173</td>\n",
       "      <td>0.001262</td>\n",
       "      <td>0.000099</td>\n",
       "      <td>0.000025</td>\n",
       "      <td>0.000148</td>\n",
       "      <td>0.000049</td>\n",
       "      <td>0.000495</td>\n",
       "      <td>...</td>\n",
       "      <td>0.001213</td>\n",
       "      <td>0.000025</td>\n",
       "      <td>0.000049</td>\n",
       "      <td>0.000099</td>\n",
       "      <td>0.000173</td>\n",
       "      <td>0.000841</td>\n",
       "      <td>0.000000</td>\n",
       "      <td>0.000049</td>\n",
       "      <td>0.000198</td>\n",
       "      <td>0.000693</td>\n",
       "    </tr>\n",
       "    <tr>\n",
       "      <th>VANDALISM</th>\n",
       "      <td>0.019793</td>\n",
       "      <td>0.000349</td>\n",
       "      <td>0.000349</td>\n",
       "      <td>0.000116</td>\n",
       "      <td>0.001164</td>\n",
       "      <td>0.000116</td>\n",
       "      <td>0.000116</td>\n",
       "      <td>0.000000</td>\n",
       "      <td>0.000466</td>\n",
       "      <td>0.000815</td>\n",
       "      <td>...</td>\n",
       "      <td>0.000815</td>\n",
       "      <td>0.000349</td>\n",
       "      <td>0.000233</td>\n",
       "      <td>0.000233</td>\n",
       "      <td>0.000349</td>\n",
       "      <td>0.001048</td>\n",
       "      <td>0.000116</td>\n",
       "      <td>0.000233</td>\n",
       "      <td>0.000233</td>\n",
       "      <td>0.000699</td>\n",
       "    </tr>\n",
       "    <tr>\n",
       "      <th>VEHICLE THEFT</th>\n",
       "      <td>0.020876</td>\n",
       "      <td>0.000156</td>\n",
       "      <td>0.000000</td>\n",
       "      <td>0.000000</td>\n",
       "      <td>0.000779</td>\n",
       "      <td>0.000000</td>\n",
       "      <td>0.000000</td>\n",
       "      <td>0.000156</td>\n",
       "      <td>0.000156</td>\n",
       "      <td>0.000623</td>\n",
       "      <td>...</td>\n",
       "      <td>0.000935</td>\n",
       "      <td>0.000000</td>\n",
       "      <td>0.000000</td>\n",
       "      <td>0.000000</td>\n",
       "      <td>0.000000</td>\n",
       "      <td>0.000623</td>\n",
       "      <td>0.000000</td>\n",
       "      <td>0.000000</td>\n",
       "      <td>0.000000</td>\n",
       "      <td>0.002181</td>\n",
       "    </tr>\n",
       "  </tbody>\n",
       "</table>\n",
       "<p>4 rows × 1426 columns</p>\n",
       "</div>"
      ],
      "text/plain": [
       "Time              00:01     00:02     00:03     00:04     00:05     00:06  \\\n",
       "Category                                                                    \n",
       "ASSAULT        0.015762  0.000368  0.000589  0.000074  0.001105  0.000295   \n",
       "LARCENY/THEFT  0.018709  0.000173  0.000124  0.000173  0.001262  0.000099   \n",
       "VANDALISM      0.019793  0.000349  0.000349  0.000116  0.001164  0.000116   \n",
       "VEHICLE THEFT  0.020876  0.000156  0.000000  0.000000  0.000779  0.000000   \n",
       "\n",
       "Time              00:07     00:08     00:09     00:10  ...     23:50  \\\n",
       "Category                                               ...             \n",
       "ASSAULT        0.000295  0.000884  0.000074  0.001178  ...  0.001841   \n",
       "LARCENY/THEFT  0.000025  0.000148  0.000049  0.000495  ...  0.001213   \n",
       "VANDALISM      0.000116  0.000000  0.000466  0.000815  ...  0.000815   \n",
       "VEHICLE THEFT  0.000000  0.000156  0.000156  0.000623  ...  0.000935   \n",
       "\n",
       "Time              23:51     23:52     23:53     23:54     23:55     23:56  \\\n",
       "Category                                                                    \n",
       "ASSAULT        0.000884  0.000442  0.000147  0.000442  0.000663  0.000074   \n",
       "LARCENY/THEFT  0.000025  0.000049  0.000099  0.000173  0.000841  0.000000   \n",
       "VANDALISM      0.000349  0.000233  0.000233  0.000349  0.001048  0.000116   \n",
       "VEHICLE THEFT  0.000000  0.000000  0.000000  0.000000  0.000623  0.000000   \n",
       "\n",
       "Time              23:57     23:58     23:59  \n",
       "Category                                     \n",
       "ASSAULT        0.000074  0.000368  0.000663  \n",
       "LARCENY/THEFT  0.000049  0.000198  0.000693  \n",
       "VANDALISM      0.000233  0.000233  0.000699  \n",
       "VEHICLE THEFT  0.000000  0.000000  0.002181  \n",
       "\n",
       "[4 rows x 1426 columns]"
      ]
     },
     "execution_count": 7,
     "metadata": {},
     "output_type": "execute_result"
    }
   ],
   "source": [
    "tabela_ho = pd.crosstab(data_f.Category, data_f.Time, normalize = 'index')\n",
    "tabela_ho.head(10)"
   ]
  },
  {
   "cell_type": "code",
   "execution_count": 8,
   "metadata": {},
   "outputs": [
    {
     "name": "stderr",
     "output_type": "stream",
     "text": [
      "C:\\Users\\helio\\Anaconda3\\lib\\site-packages\\ipykernel_launcher.py:3: SettingWithCopyWarning: \n",
      "A value is trying to be set on a copy of a slice from a DataFrame.\n",
      "Try using .loc[row_indexer,col_indexer] = value instead\n",
      "\n",
      "See the caveats in the documentation: http://pandas.pydata.org/pandas-docs/stable/indexing.html#indexing-view-versus-copy\n",
      "  This is separate from the ipykernel package so we can avoid doing imports until\n"
     ]
    },
    {
     "data": {
      "text/html": [
       "<div>\n",
       "<style scoped>\n",
       "    .dataframe tbody tr th:only-of-type {\n",
       "        vertical-align: middle;\n",
       "    }\n",
       "\n",
       "    .dataframe tbody tr th {\n",
       "        vertical-align: top;\n",
       "    }\n",
       "\n",
       "    .dataframe thead th {\n",
       "        text-align: right;\n",
       "    }\n",
       "</style>\n",
       "<table border=\"1\" class=\"dataframe\">\n",
       "  <thead>\n",
       "    <tr style=\"text-align: right;\">\n",
       "      <th>Hour</th>\n",
       "      <th>00:00</th>\n",
       "      <th>01:00</th>\n",
       "      <th>02:00</th>\n",
       "      <th>03:00</th>\n",
       "      <th>04:00</th>\n",
       "      <th>05:00</th>\n",
       "      <th>06:00</th>\n",
       "      <th>07:00</th>\n",
       "      <th>08:00</th>\n",
       "      <th>09:00</th>\n",
       "      <th>...</th>\n",
       "      <th>14:00</th>\n",
       "      <th>15:00</th>\n",
       "      <th>16:00</th>\n",
       "      <th>17:00</th>\n",
       "      <th>18:00</th>\n",
       "      <th>19:00</th>\n",
       "      <th>20:00</th>\n",
       "      <th>21:00</th>\n",
       "      <th>22:00</th>\n",
       "      <th>23:00</th>\n",
       "    </tr>\n",
       "    <tr>\n",
       "      <th>Category</th>\n",
       "      <th></th>\n",
       "      <th></th>\n",
       "      <th></th>\n",
       "      <th></th>\n",
       "      <th></th>\n",
       "      <th></th>\n",
       "      <th></th>\n",
       "      <th></th>\n",
       "      <th></th>\n",
       "      <th></th>\n",
       "      <th></th>\n",
       "      <th></th>\n",
       "      <th></th>\n",
       "      <th></th>\n",
       "      <th></th>\n",
       "      <th></th>\n",
       "      <th></th>\n",
       "      <th></th>\n",
       "      <th></th>\n",
       "      <th></th>\n",
       "      <th></th>\n",
       "    </tr>\n",
       "  </thead>\n",
       "  <tbody>\n",
       "    <tr>\n",
       "      <th>ASSAULT</th>\n",
       "      <td>0.048612</td>\n",
       "      <td>0.043088</td>\n",
       "      <td>0.039552</td>\n",
       "      <td>0.023348</td>\n",
       "      <td>0.015025</td>\n",
       "      <td>0.010533</td>\n",
       "      <td>0.017603</td>\n",
       "      <td>0.026074</td>\n",
       "      <td>0.033365</td>\n",
       "      <td>0.036385</td>\n",
       "      <td>...</td>\n",
       "      <td>0.046991</td>\n",
       "      <td>0.055903</td>\n",
       "      <td>0.055535</td>\n",
       "      <td>0.058039</td>\n",
       "      <td>0.051779</td>\n",
       "      <td>0.051337</td>\n",
       "      <td>0.054651</td>\n",
       "      <td>0.059070</td>\n",
       "      <td>0.048538</td>\n",
       "      <td>0.046476</td>\n",
       "    </tr>\n",
       "    <tr>\n",
       "      <th>LARCENY/THEFT</th>\n",
       "      <td>0.034423</td>\n",
       "      <td>0.025415</td>\n",
       "      <td>0.016110</td>\n",
       "      <td>0.009676</td>\n",
       "      <td>0.006682</td>\n",
       "      <td>0.007449</td>\n",
       "      <td>0.010913</td>\n",
       "      <td>0.015318</td>\n",
       "      <td>0.027073</td>\n",
       "      <td>0.032196</td>\n",
       "      <td>...</td>\n",
       "      <td>0.053948</td>\n",
       "      <td>0.054122</td>\n",
       "      <td>0.058626</td>\n",
       "      <td>0.068772</td>\n",
       "      <td>0.080477</td>\n",
       "      <td>0.080304</td>\n",
       "      <td>0.070009</td>\n",
       "      <td>0.056374</td>\n",
       "      <td>0.047588</td>\n",
       "      <td>0.042812</td>\n",
       "    </tr>\n",
       "    <tr>\n",
       "      <th>VANDALISM</th>\n",
       "      <td>0.041565</td>\n",
       "      <td>0.035161</td>\n",
       "      <td>0.028059</td>\n",
       "      <td>0.025731</td>\n",
       "      <td>0.019793</td>\n",
       "      <td>0.016416</td>\n",
       "      <td>0.020142</td>\n",
       "      <td>0.023518</td>\n",
       "      <td>0.032949</td>\n",
       "      <td>0.030621</td>\n",
       "      <td>...</td>\n",
       "      <td>0.042496</td>\n",
       "      <td>0.044010</td>\n",
       "      <td>0.045523</td>\n",
       "      <td>0.065200</td>\n",
       "      <td>0.073699</td>\n",
       "      <td>0.071021</td>\n",
       "      <td>0.062871</td>\n",
       "      <td>0.063453</td>\n",
       "      <td>0.064152</td>\n",
       "      <td>0.054954</td>\n",
       "    </tr>\n",
       "    <tr>\n",
       "      <th>VEHICLE THEFT</th>\n",
       "      <td>0.034585</td>\n",
       "      <td>0.026328</td>\n",
       "      <td>0.016669</td>\n",
       "      <td>0.011061</td>\n",
       "      <td>0.008880</td>\n",
       "      <td>0.010438</td>\n",
       "      <td>0.019629</td>\n",
       "      <td>0.025705</td>\n",
       "      <td>0.033339</td>\n",
       "      <td>0.034429</td>\n",
       "      <td>...</td>\n",
       "      <td>0.037701</td>\n",
       "      <td>0.040972</td>\n",
       "      <td>0.052656</td>\n",
       "      <td>0.073064</td>\n",
       "      <td>0.083969</td>\n",
       "      <td>0.073687</td>\n",
       "      <td>0.080542</td>\n",
       "      <td>0.072597</td>\n",
       "      <td>0.076803</td>\n",
       "      <td>0.062627</td>\n",
       "    </tr>\n",
       "  </tbody>\n",
       "</table>\n",
       "<p>4 rows × 24 columns</p>\n",
       "</div>"
      ],
      "text/plain": [
       "Hour              00:00     01:00     02:00     03:00     04:00     05:00  \\\n",
       "Category                                                                    \n",
       "ASSAULT        0.048612  0.043088  0.039552  0.023348  0.015025  0.010533   \n",
       "LARCENY/THEFT  0.034423  0.025415  0.016110  0.009676  0.006682  0.007449   \n",
       "VANDALISM      0.041565  0.035161  0.028059  0.025731  0.019793  0.016416   \n",
       "VEHICLE THEFT  0.034585  0.026328  0.016669  0.011061  0.008880  0.010438   \n",
       "\n",
       "Hour              06:00     07:00     08:00     09:00  ...     14:00  \\\n",
       "Category                                               ...             \n",
       "ASSAULT        0.017603  0.026074  0.033365  0.036385  ...  0.046991   \n",
       "LARCENY/THEFT  0.010913  0.015318  0.027073  0.032196  ...  0.053948   \n",
       "VANDALISM      0.020142  0.023518  0.032949  0.030621  ...  0.042496   \n",
       "VEHICLE THEFT  0.019629  0.025705  0.033339  0.034429  ...  0.037701   \n",
       "\n",
       "Hour              15:00     16:00     17:00     18:00     19:00     20:00  \\\n",
       "Category                                                                    \n",
       "ASSAULT        0.055903  0.055535  0.058039  0.051779  0.051337  0.054651   \n",
       "LARCENY/THEFT  0.054122  0.058626  0.068772  0.080477  0.080304  0.070009   \n",
       "VANDALISM      0.044010  0.045523  0.065200  0.073699  0.071021  0.062871   \n",
       "VEHICLE THEFT  0.040972  0.052656  0.073064  0.083969  0.073687  0.080542   \n",
       "\n",
       "Hour              21:00     22:00     23:00  \n",
       "Category                                     \n",
       "ASSAULT        0.059070  0.048538  0.046476  \n",
       "LARCENY/THEFT  0.056374  0.047588  0.042812  \n",
       "VANDALISM      0.063453  0.064152  0.054954  \n",
       "VEHICLE THEFT  0.072597  0.076803  0.062627  \n",
       "\n",
       "[4 rows x 24 columns]"
      ]
     },
     "execution_count": 8,
     "metadata": {},
     "output_type": "execute_result"
    }
   ],
   "source": [
    "#horario = tabela_ho.columns  \n",
    "\n",
    "data_f[\"Hour\"] = data_f.Time.str.slice(0,3) + \"00\"\n",
    "    \n",
    "data_f[\"Hour\"].value_counts()\n",
    "tabela_Category_Time = pd.crosstab(data_f.Category, data_f.Hour, normalize='index')\n",
    "tabela_Category_Time"
   ]
  },
  {
   "cell_type": "code",
   "execution_count": 9,
   "metadata": {},
   "outputs": [
    {
     "data": {
      "text/plain": [
       "<matplotlib.axes._subplots.AxesSubplot at 0x172ab0c29e8>"
      ]
     },
     "execution_count": 9,
     "metadata": {},
     "output_type": "execute_result"
    },
    {
     "data": {
      "image/png": "[encoded data removed]",
      "text/plain": [
       "<Figure size 432x288 with 2 Axes>"
      ]
     },
     "metadata": {},
     "output_type": "display_data"
    }
   ],
   "source": [
    "seaborn.heatmap(tabela_Category_Time, annot = False, fmt = 'd', cmap='YlGnBu')"
   ]
  },
  {
   "cell_type": "code",
   "execution_count": 10,
   "metadata": {},
   "outputs": [],
   "source": [
    "Corr_ASSAULT_Category_Hour = np.corrcoef(tabela_Category_Time.loc[\"ASSAULT\",:],range(0,24)) [0,1]\n",
    "\n",
    "Corr_LARCENYTHEFT_Category_Hour = np.corrcoef(tabela_Category_Time.loc[\"LARCENY/THEFT\",:],range(0,24)) [0,1]\n",
    "\n",
    "Corr_VANDALISM_Category_Hour = np.corrcoef(tabela_Category_Time.loc[\"VANDALISM\",:],range(0,24)) [0,1]\n",
    "\n",
    "Corr_VEHICLETHEFT_Category_Hour = np.corrcoef(tabela_Category_Time.loc[\"VEHICLE THEFT\"],range(0,24)) [0,1]"
   ]
  },
  {
   "cell_type": "code",
   "execution_count": 27,
   "metadata": {},
   "outputs": [
    {
     "data": {
      "text/html": [
       "<div>\n",
       "<style scoped>\n",
       "    .dataframe tbody tr th:only-of-type {\n",
       "        vertical-align: middle;\n",
       "    }\n",
       "\n",
       "    .dataframe tbody tr th {\n",
       "        vertical-align: top;\n",
       "    }\n",
       "\n",
       "    .dataframe thead th {\n",
       "        text-align: right;\n",
       "    }\n",
       "</style>\n",
       "<table border=\"1\" class=\"dataframe\">\n",
       "  <thead>\n",
       "    <tr style=\"text-align: right;\">\n",
       "      <th></th>\n",
       "      <th>ASSAULT</th>\n",
       "      <th>LARCENY/THEFT</th>\n",
       "      <th>VANDALISM</th>\n",
       "      <th>VEHICLE THEFT</th>\n",
       "    </tr>\n",
       "  </thead>\n",
       "  <tbody>\n",
       "    <tr>\n",
       "      <th>0</th>\n",
       "      <td>0.657891</td>\n",
       "      <td>0.785558</td>\n",
       "      <td>0.812729</td>\n",
       "      <td>0.862514</td>\n",
       "    </tr>\n",
       "  </tbody>\n",
       "</table>\n",
       "</div>"
      ],
      "text/plain": [
       "    ASSAULT  LARCENY/THEFT  VANDALISM  VEHICLE THEFT\n",
       "0  0.657891       0.785558   0.812729       0.862514"
      ]
     },
     "execution_count": 27,
     "metadata": {},
     "output_type": "execute_result"
    }
   ],
   "source": [
    "Corr_Category_Hour = {\"ASSAULT\":[Corr_ASSAULT_Category_Hour],\n",
    "                      \"LARCENY/THEFT\":[Corr_LARCENYTHEFT_Category_Hour],\n",
    "                      \"VANDALISM\":[Corr_VANDALISM_Category_Hour],\n",
    "                      \"VEHICLE THEFT\":[Corr_VEHICLETHEFT_Category_Hour]}\n",
    "\n",
    "tabela_Corr_Category_Hour = pd.DataFrame(Corr_Category_Hour)\n",
    "tabela_Corr_Category_Hour"
   ]
  },
  {
   "cell_type": "code",
   "execution_count": 12,
   "metadata": {},
   "outputs": [
    {
     "data": {
      "text/html": [
       "<div>\n",
       "<style scoped>\n",
       "    .dataframe tbody tr th:only-of-type {\n",
       "        vertical-align: middle;\n",
       "    }\n",
       "\n",
       "    .dataframe tbody tr th {\n",
       "        vertical-align: top;\n",
       "    }\n",
       "\n",
       "    .dataframe thead th {\n",
       "        text-align: right;\n",
       "    }\n",
       "</style>\n",
       "<table border=\"1\" class=\"dataframe\">\n",
       "  <thead>\n",
       "    <tr style=\"text-align: right;\">\n",
       "      <th>PdDistrict</th>\n",
       "      <th>BAYVIEW</th>\n",
       "      <th>CENTRAL</th>\n",
       "      <th>INGLESIDE</th>\n",
       "      <th>MISSION</th>\n",
       "      <th>NORTHERN</th>\n",
       "      <th>PARK</th>\n",
       "      <th>RICHMOND</th>\n",
       "      <th>SOUTHERN</th>\n",
       "      <th>TARAVAL</th>\n",
       "      <th>TENDERLOIN</th>\n",
       "    </tr>\n",
       "    <tr>\n",
       "      <th>Category</th>\n",
       "      <th></th>\n",
       "      <th></th>\n",
       "      <th></th>\n",
       "      <th></th>\n",
       "      <th></th>\n",
       "      <th></th>\n",
       "      <th></th>\n",
       "      <th></th>\n",
       "      <th></th>\n",
       "      <th></th>\n",
       "    </tr>\n",
       "  </thead>\n",
       "  <tbody>\n",
       "    <tr>\n",
       "      <th>ASSAULT</th>\n",
       "      <td>0.130736</td>\n",
       "      <td>0.087427</td>\n",
       "      <td>0.110923</td>\n",
       "      <td>0.155410</td>\n",
       "      <td>0.113133</td>\n",
       "      <td>0.038595</td>\n",
       "      <td>0.034838</td>\n",
       "      <td>0.173234</td>\n",
       "      <td>0.067614</td>\n",
       "      <td>0.088090</td>\n",
       "    </tr>\n",
       "    <tr>\n",
       "      <th>LARCENY/THEFT</th>\n",
       "      <td>0.058330</td>\n",
       "      <td>0.166799</td>\n",
       "      <td>0.044075</td>\n",
       "      <td>0.082187</td>\n",
       "      <td>0.178653</td>\n",
       "      <td>0.055039</td>\n",
       "      <td>0.077534</td>\n",
       "      <td>0.227752</td>\n",
       "      <td>0.064467</td>\n",
       "      <td>0.045164</td>\n",
       "    </tr>\n",
       "    <tr>\n",
       "      <th>VANDALISM</th>\n",
       "      <td>0.123297</td>\n",
       "      <td>0.133659</td>\n",
       "      <td>0.088602</td>\n",
       "      <td>0.127023</td>\n",
       "      <td>0.139597</td>\n",
       "      <td>0.052858</td>\n",
       "      <td>0.055536</td>\n",
       "      <td>0.167540</td>\n",
       "      <td>0.072418</td>\n",
       "      <td>0.039469</td>\n",
       "    </tr>\n",
       "    <tr>\n",
       "      <th>VEHICLE THEFT</th>\n",
       "      <td>0.168406</td>\n",
       "      <td>0.074934</td>\n",
       "      <td>0.142546</td>\n",
       "      <td>0.145194</td>\n",
       "      <td>0.115127</td>\n",
       "      <td>0.070416</td>\n",
       "      <td>0.080231</td>\n",
       "      <td>0.095498</td>\n",
       "      <td>0.083814</td>\n",
       "      <td>0.023835</td>\n",
       "    </tr>\n",
       "  </tbody>\n",
       "</table>\n",
       "</div>"
      ],
      "text/plain": [
       "PdDistrict      BAYVIEW   CENTRAL  INGLESIDE   MISSION  NORTHERN      PARK  \\\n",
       "Category                                                                     \n",
       "ASSAULT        0.130736  0.087427   0.110923  0.155410  0.113133  0.038595   \n",
       "LARCENY/THEFT  0.058330  0.166799   0.044075  0.082187  0.178653  0.055039   \n",
       "VANDALISM      0.123297  0.133659   0.088602  0.127023  0.139597  0.052858   \n",
       "VEHICLE THEFT  0.168406  0.074934   0.142546  0.145194  0.115127  0.070416   \n",
       "\n",
       "PdDistrict     RICHMOND  SOUTHERN   TARAVAL  TENDERLOIN  \n",
       "Category                                                 \n",
       "ASSAULT        0.034838  0.173234  0.067614    0.088090  \n",
       "LARCENY/THEFT  0.077534  0.227752  0.064467    0.045164  \n",
       "VANDALISM      0.055536  0.167540  0.072418    0.039469  \n",
       "VEHICLE THEFT  0.080231  0.095498  0.083814    0.023835  "
      ]
     },
     "execution_count": 12,
     "metadata": {},
     "output_type": "execute_result"
    }
   ],
   "source": [
    "tabela_Category_District = pd.crosstab(data_f.Category, data_f.PdDistrict, normalize = 'index')\n",
    "tabela_Category_District"
   ]
  },
  {
   "cell_type": "code",
   "execution_count": 13,
   "metadata": {},
   "outputs": [
    {
     "data": {
      "text/plain": [
       "<matplotlib.axes._subplots.AxesSubplot at 0x172aa6fe358>"
      ]
     },
     "execution_count": 13,
     "metadata": {},
     "output_type": "execute_result"
    },
    {
     "data": {
      "image/png": "[encoded data removed]",
      "text/plain": [
       "<Figure size 432x288 with 2 Axes>"
      ]
     },
     "metadata": {},
     "output_type": "display_data"
    }
   ],
   "source": [
    "seaborn.heatmap(tabela_Category_District, annot = False, fmt = 'd', cmap='YlGnBu')"
   ]
  },
  {
   "cell_type": "code",
   "execution_count": null,
   "metadata": {},
   "outputs": [],
   "source": []
  },
  {
   "cell_type": "code",
   "execution_count": 14,
   "metadata": {},
   "outputs": [],
   "source": [
    "tabela_Hour_District = pd.crosstab(data_f.Hour, data_f.PdDistrict, normalize = 'index')"
   ]
  },
  {
   "cell_type": "code",
   "execution_count": 15,
   "metadata": {},
   "outputs": [
    {
     "data": {
      "text/plain": [
       "<matplotlib.axes._subplots.AxesSubplot at 0x172ab1d2160>"
      ]
     },
     "execution_count": 15,
     "metadata": {},
     "output_type": "execute_result"
    },
    {
     "data": {
      "image/png": "[encoded data removed]",
      "text/plain": [
       "<Figure size 432x288 with 2 Axes>"
      ]
     },
     "metadata": {},
     "output_type": "display_data"
    }
   ],
   "source": [
    "seaborn.heatmap(tabela_Hour_District, annot = False, fmt = 'd', cmap='YlGnBu')"
   ]
  },
  {
   "cell_type": "code",
   "execution_count": null,
   "metadata": {},
   "outputs": [],
   "source": []
  },
  {
   "cell_type": "code",
   "execution_count": 16,
   "metadata": {},
   "outputs": [],
   "source": [
    "tabela_DayOfWeek_Hour = pd.crosstab(data_f.DayOfWeek, data_f.Hour, normalize = 'index')"
   ]
  },
  {
   "cell_type": "code",
   "execution_count": 17,
   "metadata": {},
   "outputs": [
    {
     "data": {
      "text/plain": [
       "<matplotlib.axes._subplots.AxesSubplot at 0x172ab2c4860>"
      ]
     },
     "execution_count": 17,
     "metadata": {},
     "output_type": "execute_result"
    },
    {
     "data": {
      "image/png": "[encoded data removed]",
      "text/plain": [
       "<Figure size 432x288 with 2 Axes>"
      ]
     },
     "metadata": {},
     "output_type": "display_data"
    }
   ],
   "source": [
    "seaborn.heatmap(tabela_DayOfWeek_Hour, annot = False, fmt = 'd', cmap='YlGnBu')"
   ]
  },
  {
   "cell_type": "code",
   "execution_count": null,
   "metadata": {},
   "outputs": [],
   "source": []
  },
  {
   "cell_type": "code",
   "execution_count": 18,
   "metadata": {},
   "outputs": [],
   "source": [
    "tabela_DayOfWeek_District =  pd.crosstab(data_f.DayOfWeek, data_f.PdDistrict, normalize = 'index')"
   ]
  },
  {
   "cell_type": "code",
   "execution_count": 19,
   "metadata": {},
   "outputs": [
    {
     "data": {
      "text/plain": [
       "<matplotlib.axes._subplots.AxesSubplot at 0x172ab38d9e8>"
      ]
     },
     "execution_count": 19,
     "metadata": {},
     "output_type": "execute_result"
    },
    {
     "data": {
      "image/png": "[encoded data removed]",
      "text/plain": [
       "<Figure size 432x288 with 2 Axes>"
      ]
     },
     "metadata": {},
     "output_type": "display_data"
    }
   ],
   "source": [
    "seaborn.heatmap(tabela_DayOfWeek_District, annot = False, fmt = 'd', cmap='YlGnBu')"
   ]
  },
  {
   "cell_type": "code",
   "execution_count": null,
   "metadata": {},
   "outputs": [],
   "source": []
  },
  {
   "cell_type": "markdown",
   "metadata": {},
   "source": [
    "## Conclusão"
   ]
  },
  {
   "cell_type": "markdown",
   "metadata": {},
   "source": [
    "## Fontes:\n"
   ]
  },
  {
   "cell_type": "code",
   "execution_count": null,
   "metadata": {},
   "outputs": [],
   "source": []
  }
 ],
 "metadata": {
  "kernelspec": {
   "display_name": "Python 3",
   "language": "python",
   "name": "python3"
  },
  "language_info": {
   "codemirror_mode": {
    "name": "ipython",
    "version": 3
   },
   "file_extension": ".py",
   "mimetype": "text/x-python",
   "name": "python",
   "nbconvert_exporter": "python",
   "pygments_lexer": "ipython3",
   "version": "3.7.3"
  }
 },
 "nbformat": 4,
 "nbformat_minor": 4
}

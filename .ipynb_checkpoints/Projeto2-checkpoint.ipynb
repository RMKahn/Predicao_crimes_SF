{
 "cells": [
  {
   "cell_type": "markdown",
   "metadata": {},
   "source": [
    "# Projeto 2 de Ciência dos Dados - Predição de crimes em São Francisco"
   ]
  },
  {
   "cell_type": "markdown",
   "metadata": {},
   "source": [
    "#### Turma 2b\n",
    "Rafael Kahn<br>\n",
    "Hélio Zaia<br>\n",
    "Gabriel Parfan<br>"
   ]
  },
  {
   "cell_type": "markdown",
   "metadata": {},
   "source": [
    "## Introdução"
   ]
  },
  {
   "cell_type": "markdown",
   "metadata": {},
   "source": [
    "## Objetivo"
   ]
  },
  {
   "cell_type": "markdown",
   "metadata": {},
   "source": [
    "## Preparo do dataset"
   ]
  },
  {
   "cell_type": "code",
   "execution_count": 3,
   "metadata": {},
   "outputs": [],
   "source": [
    "#Bibliotecas\n",
    "import math\n",
    "import matplotlib.pyplot as plt\n",
    "import pandas as pd\n",
    "import numpy as np\n",
    "from scipy import stats\n",
    "from scipy.stats import norm, uniform, probplot\n",
    "import seaborn"
   ]
  },
  {
   "cell_type": "code",
   "execution_count": 4,
   "metadata": {
    "scrolled": true
   },
   "outputs": [
    {
     "data": {
      "text/html": [
       "<div>\n",
       "<style scoped>\n",
       "    .dataframe tbody tr th:only-of-type {\n",
       "        vertical-align: middle;\n",
       "    }\n",
       "\n",
       "    .dataframe tbody tr th {\n",
       "        vertical-align: top;\n",
       "    }\n",
       "\n",
       "    .dataframe thead th {\n",
       "        text-align: right;\n",
       "    }\n",
       "</style>\n",
       "<table border=\"1\" class=\"dataframe\">\n",
       "  <thead>\n",
       "    <tr style=\"text-align: right;\">\n",
       "      <th></th>\n",
       "      <th>IncidntNum</th>\n",
       "      <th>Category</th>\n",
       "      <th>Descript</th>\n",
       "      <th>DayOfWeek</th>\n",
       "      <th>Date</th>\n",
       "      <th>Time</th>\n",
       "      <th>PdDistrict</th>\n",
       "      <th>Resolution</th>\n",
       "      <th>Address</th>\n",
       "      <th>X</th>\n",
       "      <th>Y</th>\n",
       "      <th>Location</th>\n",
       "      <th>PdId</th>\n",
       "    </tr>\n",
       "  </thead>\n",
       "  <tbody>\n",
       "    <tr>\n",
       "      <th>0</th>\n",
       "      <td>120058272</td>\n",
       "      <td>WEAPON LAWS</td>\n",
       "      <td>POSS OF PROHIBITED WEAPON</td>\n",
       "      <td>Friday</td>\n",
       "      <td>01/29/2016 12:00:00 AM</td>\n",
       "      <td>11:00</td>\n",
       "      <td>SOUTHERN</td>\n",
       "      <td>ARREST, BOOKED</td>\n",
       "      <td>800 Block of BRYANT ST</td>\n",
       "      <td>-122.403405</td>\n",
       "      <td>37.775421</td>\n",
       "      <td>(37.775420706711, -122.403404791479)</td>\n",
       "      <td>12005827212120</td>\n",
       "    </tr>\n",
       "    <tr>\n",
       "      <th>1</th>\n",
       "      <td>120058272</td>\n",
       "      <td>WEAPON LAWS</td>\n",
       "      <td>FIREARM, LOADED, IN VEHICLE, POSSESSION OR USE</td>\n",
       "      <td>Friday</td>\n",
       "      <td>01/29/2016 12:00:00 AM</td>\n",
       "      <td>11:00</td>\n",
       "      <td>SOUTHERN</td>\n",
       "      <td>ARREST, BOOKED</td>\n",
       "      <td>800 Block of BRYANT ST</td>\n",
       "      <td>-122.403405</td>\n",
       "      <td>37.775421</td>\n",
       "      <td>(37.775420706711, -122.403404791479)</td>\n",
       "      <td>12005827212168</td>\n",
       "    </tr>\n",
       "    <tr>\n",
       "      <th>2</th>\n",
       "      <td>141059263</td>\n",
       "      <td>WARRANTS</td>\n",
       "      <td>WARRANT ARREST</td>\n",
       "      <td>Monday</td>\n",
       "      <td>04/25/2016 12:00:00 AM</td>\n",
       "      <td>14:59</td>\n",
       "      <td>BAYVIEW</td>\n",
       "      <td>ARREST, BOOKED</td>\n",
       "      <td>KEITH ST / SHAFTER AV</td>\n",
       "      <td>-122.388856</td>\n",
       "      <td>37.729981</td>\n",
       "      <td>(37.7299809672996, -122.388856204292)</td>\n",
       "      <td>14105926363010</td>\n",
       "    </tr>\n",
       "    <tr>\n",
       "      <th>3</th>\n",
       "      <td>160013662</td>\n",
       "      <td>NON-CRIMINAL</td>\n",
       "      <td>LOST PROPERTY</td>\n",
       "      <td>Tuesday</td>\n",
       "      <td>01/05/2016 12:00:00 AM</td>\n",
       "      <td>23:50</td>\n",
       "      <td>TENDERLOIN</td>\n",
       "      <td>NONE</td>\n",
       "      <td>JONES ST / OFARRELL ST</td>\n",
       "      <td>-122.412971</td>\n",
       "      <td>37.785788</td>\n",
       "      <td>(37.7857883766888, -122.412970537591)</td>\n",
       "      <td>16001366271000</td>\n",
       "    </tr>\n",
       "    <tr>\n",
       "      <th>4</th>\n",
       "      <td>160002740</td>\n",
       "      <td>NON-CRIMINAL</td>\n",
       "      <td>LOST PROPERTY</td>\n",
       "      <td>Friday</td>\n",
       "      <td>01/01/2016 12:00:00 AM</td>\n",
       "      <td>00:30</td>\n",
       "      <td>MISSION</td>\n",
       "      <td>NONE</td>\n",
       "      <td>16TH ST / MISSION ST</td>\n",
       "      <td>-122.419672</td>\n",
       "      <td>37.765050</td>\n",
       "      <td>(37.7650501214668, -122.419671780296)</td>\n",
       "      <td>16000274071000</td>\n",
       "    </tr>\n",
       "    <tr>\n",
       "      <th>5</th>\n",
       "      <td>160002869</td>\n",
       "      <td>ASSAULT</td>\n",
       "      <td>BATTERY</td>\n",
       "      <td>Friday</td>\n",
       "      <td>01/01/2016 12:00:00 AM</td>\n",
       "      <td>21:35</td>\n",
       "      <td>NORTHERN</td>\n",
       "      <td>NONE</td>\n",
       "      <td>1700 Block of BUSH ST</td>\n",
       "      <td>-122.426077</td>\n",
       "      <td>37.788019</td>\n",
       "      <td>(37.788018555829, -122.426077177375)</td>\n",
       "      <td>16000286904134</td>\n",
       "    </tr>\n",
       "    <tr>\n",
       "      <th>6</th>\n",
       "      <td>160003130</td>\n",
       "      <td>OTHER OFFENSES</td>\n",
       "      <td>PAROLE VIOLATION</td>\n",
       "      <td>Saturday</td>\n",
       "      <td>01/02/2016 12:00:00 AM</td>\n",
       "      <td>00:04</td>\n",
       "      <td>SOUTHERN</td>\n",
       "      <td>ARREST, BOOKED</td>\n",
       "      <td>MARY ST / HOWARD ST</td>\n",
       "      <td>-122.405721</td>\n",
       "      <td>37.780879</td>\n",
       "      <td>(37.7808789360214, -122.405721454567)</td>\n",
       "      <td>16000313026150</td>\n",
       "    </tr>\n",
       "    <tr>\n",
       "      <th>7</th>\n",
       "      <td>160003259</td>\n",
       "      <td>NON-CRIMINAL</td>\n",
       "      <td>FIRE REPORT</td>\n",
       "      <td>Saturday</td>\n",
       "      <td>01/02/2016 12:00:00 AM</td>\n",
       "      <td>01:02</td>\n",
       "      <td>TENDERLOIN</td>\n",
       "      <td>NONE</td>\n",
       "      <td>200 Block of EDDY ST</td>\n",
       "      <td>-122.411778</td>\n",
       "      <td>37.783981</td>\n",
       "      <td>(37.7839805592634, -122.411778295992)</td>\n",
       "      <td>16000325968000</td>\n",
       "    </tr>\n",
       "    <tr>\n",
       "      <th>8</th>\n",
       "      <td>160003970</td>\n",
       "      <td>WARRANTS</td>\n",
       "      <td>WARRANT ARREST</td>\n",
       "      <td>Saturday</td>\n",
       "      <td>01/02/2016 12:00:00 AM</td>\n",
       "      <td>12:21</td>\n",
       "      <td>SOUTHERN</td>\n",
       "      <td>ARREST, BOOKED</td>\n",
       "      <td>4TH ST / BERRY ST</td>\n",
       "      <td>-122.393357</td>\n",
       "      <td>37.775788</td>\n",
       "      <td>(37.7757876218293, -122.393357241451)</td>\n",
       "      <td>16000397063010</td>\n",
       "    </tr>\n",
       "    <tr>\n",
       "      <th>9</th>\n",
       "      <td>160003641</td>\n",
       "      <td>MISSING PERSON</td>\n",
       "      <td>FOUND PERSON</td>\n",
       "      <td>Friday</td>\n",
       "      <td>01/01/2016 12:00:00 AM</td>\n",
       "      <td>10:06</td>\n",
       "      <td>BAYVIEW</td>\n",
       "      <td>NONE</td>\n",
       "      <td>100 Block of CAMERON WY</td>\n",
       "      <td>-122.387182</td>\n",
       "      <td>37.720967</td>\n",
       "      <td>(37.7209669615499, -122.387181635995)</td>\n",
       "      <td>16000364175000</td>\n",
       "    </tr>\n",
       "  </tbody>\n",
       "</table>\n",
       "</div>"
      ],
      "text/plain": [
       "   IncidntNum        Category                                        Descript  \\\n",
       "0   120058272     WEAPON LAWS                       POSS OF PROHIBITED WEAPON   \n",
       "1   120058272     WEAPON LAWS  FIREARM, LOADED, IN VEHICLE, POSSESSION OR USE   \n",
       "2   141059263        WARRANTS                                  WARRANT ARREST   \n",
       "3   160013662    NON-CRIMINAL                                   LOST PROPERTY   \n",
       "4   160002740    NON-CRIMINAL                                   LOST PROPERTY   \n",
       "5   160002869         ASSAULT                                         BATTERY   \n",
       "6   160003130  OTHER OFFENSES                                PAROLE VIOLATION   \n",
       "7   160003259    NON-CRIMINAL                                     FIRE REPORT   \n",
       "8   160003970        WARRANTS                                  WARRANT ARREST   \n",
       "9   160003641  MISSING PERSON                                    FOUND PERSON   \n",
       "\n",
       "  DayOfWeek                    Date   Time  PdDistrict      Resolution  \\\n",
       "0    Friday  01/29/2016 12:00:00 AM  11:00    SOUTHERN  ARREST, BOOKED   \n",
       "1    Friday  01/29/2016 12:00:00 AM  11:00    SOUTHERN  ARREST, BOOKED   \n",
       "2    Monday  04/25/2016 12:00:00 AM  14:59     BAYVIEW  ARREST, BOOKED   \n",
       "3   Tuesday  01/05/2016 12:00:00 AM  23:50  TENDERLOIN            NONE   \n",
       "4    Friday  01/01/2016 12:00:00 AM  00:30     MISSION            NONE   \n",
       "5    Friday  01/01/2016 12:00:00 AM  21:35    NORTHERN            NONE   \n",
       "6  Saturday  01/02/2016 12:00:00 AM  00:04    SOUTHERN  ARREST, BOOKED   \n",
       "7  Saturday  01/02/2016 12:00:00 AM  01:02  TENDERLOIN            NONE   \n",
       "8  Saturday  01/02/2016 12:00:00 AM  12:21    SOUTHERN  ARREST, BOOKED   \n",
       "9    Friday  01/01/2016 12:00:00 AM  10:06     BAYVIEW            NONE   \n",
       "\n",
       "                   Address           X          Y  \\\n",
       "0   800 Block of BRYANT ST -122.403405  37.775421   \n",
       "1   800 Block of BRYANT ST -122.403405  37.775421   \n",
       "2    KEITH ST / SHAFTER AV -122.388856  37.729981   \n",
       "3   JONES ST / OFARRELL ST -122.412971  37.785788   \n",
       "4     16TH ST / MISSION ST -122.419672  37.765050   \n",
       "5    1700 Block of BUSH ST -122.426077  37.788019   \n",
       "6      MARY ST / HOWARD ST -122.405721  37.780879   \n",
       "7     200 Block of EDDY ST -122.411778  37.783981   \n",
       "8        4TH ST / BERRY ST -122.393357  37.775788   \n",
       "9  100 Block of CAMERON WY -122.387182  37.720967   \n",
       "\n",
       "                                Location            PdId  \n",
       "0   (37.775420706711, -122.403404791479)  12005827212120  \n",
       "1   (37.775420706711, -122.403404791479)  12005827212168  \n",
       "2  (37.7299809672996, -122.388856204292)  14105926363010  \n",
       "3  (37.7857883766888, -122.412970537591)  16001366271000  \n",
       "4  (37.7650501214668, -122.419671780296)  16000274071000  \n",
       "5   (37.788018555829, -122.426077177375)  16000286904134  \n",
       "6  (37.7808789360214, -122.405721454567)  16000313026150  \n",
       "7  (37.7839805592634, -122.411778295992)  16000325968000  \n",
       "8  (37.7757876218293, -122.393357241451)  16000397063010  \n",
       "9  (37.7209669615499, -122.387181635995)  16000364175000  "
      ]
     },
     "execution_count": 4,
     "metadata": {},
     "output_type": "execute_result"
    }
   ],
   "source": [
    "#Abrindo o dataset\n",
    "data = pd.read_csv(\"Crimes_SF.csv\")\n",
    "data.head(10)"
   ]
  },
  {
   "cell_type": "code",
   "execution_count": 5,
   "metadata": {
    "scrolled": true
   },
   "outputs": [
    {
     "data": {
      "text/plain": [
       "LARCENY/THEFT    40409\n",
       "ASSAULT          13577\n",
       "VANDALISM         8589\n",
       "VEHICLE THEFT     6419\n",
       "Name: Category, dtype: int64"
      ]
     },
     "execution_count": 5,
     "metadata": {},
     "output_type": "execute_result"
    }
   ],
   "source": [
    "#Limpeza Inicial\n",
    "#Deixando apenas os crimes mais relevantes (inicialmente 4)\n",
    "data_f = data[(data['Category'] == 'LARCENY/THEFT') | (data['Category'] == 'ASSAULT') | (data['Category'] == 'VANDALISM') | (data['Category'] == 'VEHICLE THEFT')]\n",
    "data_f.Category.value_counts()"
   ]
  },
  {
   "cell_type": "markdown",
   "metadata": {},
   "source": [
    "## Análise Exploratória\n"
   ]
  },
  {
   "cell_type": "code",
   "execution_count": 11,
   "metadata": {},
   "outputs": [
    {
     "data": {
      "image/png": "[encoded data removed]",
      "text/plain": [
       "<Figure size 432x288 with 1 Axes>"
      ]
     },
     "metadata": {},
     "output_type": "display_data"
    }
   ],
   "source": [
    "data_f.groupby('DayOfWeek').Category.value_counts().plot.barh()\n",
    "plt.style.use(\"ggplot\")\n",
    "plt.grid(True)"
   ]
  },
  {
   "cell_type": "code",
   "execution_count": 7,
   "metadata": {},
   "outputs": [
    {
     "data": {
      "text/html": [
       "<div>\n",
       "<style scoped>\n",
       "    .dataframe tbody tr th:only-of-type {\n",
       "        vertical-align: middle;\n",
       "    }\n",
       "\n",
       "    .dataframe tbody tr th {\n",
       "        vertical-align: top;\n",
       "    }\n",
       "\n",
       "    .dataframe thead th {\n",
       "        text-align: right;\n",
       "    }\n",
       "</style>\n",
       "<table border=\"1\" class=\"dataframe\">\n",
       "  <thead>\n",
       "    <tr style=\"text-align: right;\">\n",
       "      <th>DayOfWeek</th>\n",
       "      <th>Friday</th>\n",
       "      <th>Monday</th>\n",
       "      <th>Saturday</th>\n",
       "      <th>Sunday</th>\n",
       "      <th>Thursday</th>\n",
       "      <th>Tuesday</th>\n",
       "      <th>Wednesday</th>\n",
       "    </tr>\n",
       "    <tr>\n",
       "      <th>Category</th>\n",
       "      <th></th>\n",
       "      <th></th>\n",
       "      <th></th>\n",
       "      <th></th>\n",
       "      <th></th>\n",
       "      <th></th>\n",
       "      <th></th>\n",
       "    </tr>\n",
       "  </thead>\n",
       "  <tbody>\n",
       "    <tr>\n",
       "      <th>ASSAULT</th>\n",
       "      <td>0.153348</td>\n",
       "      <td>0.137365</td>\n",
       "      <td>0.158872</td>\n",
       "      <td>0.144804</td>\n",
       "      <td>0.131251</td>\n",
       "      <td>0.137954</td>\n",
       "      <td>0.136407</td>\n",
       "    </tr>\n",
       "    <tr>\n",
       "      <th>LARCENY/THEFT</th>\n",
       "      <td>0.160286</td>\n",
       "      <td>0.136183</td>\n",
       "      <td>0.157985</td>\n",
       "      <td>0.136875</td>\n",
       "      <td>0.137049</td>\n",
       "      <td>0.135440</td>\n",
       "      <td>0.136183</td>\n",
       "    </tr>\n",
       "    <tr>\n",
       "      <th>VANDALISM</th>\n",
       "      <td>0.157178</td>\n",
       "      <td>0.140296</td>\n",
       "      <td>0.153918</td>\n",
       "      <td>0.148213</td>\n",
       "      <td>0.132146</td>\n",
       "      <td>0.132029</td>\n",
       "      <td>0.136221</td>\n",
       "    </tr>\n",
       "    <tr>\n",
       "      <th>VEHICLE THEFT</th>\n",
       "      <td>0.155632</td>\n",
       "      <td>0.140676</td>\n",
       "      <td>0.145817</td>\n",
       "      <td>0.142546</td>\n",
       "      <td>0.133354</td>\n",
       "      <td>0.137249</td>\n",
       "      <td>0.144727</td>\n",
       "    </tr>\n",
       "  </tbody>\n",
       "</table>\n",
       "</div>"
      ],
      "text/plain": [
       "DayOfWeek        Friday    Monday  Saturday    Sunday  Thursday   Tuesday  \\\n",
       "Category                                                                    \n",
       "ASSAULT        0.153348  0.137365  0.158872  0.144804  0.131251  0.137954   \n",
       "LARCENY/THEFT  0.160286  0.136183  0.157985  0.136875  0.137049  0.135440   \n",
       "VANDALISM      0.157178  0.140296  0.153918  0.148213  0.132146  0.132029   \n",
       "VEHICLE THEFT  0.155632  0.140676  0.145817  0.142546  0.133354  0.137249   \n",
       "\n",
       "DayOfWeek      Wednesday  \n",
       "Category                  \n",
       "ASSAULT         0.136407  \n",
       "LARCENY/THEFT   0.136183  \n",
       "VANDALISM       0.136221  \n",
       "VEHICLE THEFT   0.144727  "
      ]
     },
     "execution_count": 7,
     "metadata": {},
     "output_type": "execute_result"
    }
   ],
   "source": [
    "tabela_ds = pd.crosstab(data_f.Category, data_f.DayOfWeek, normalize = 'index')\n",
    "tabela_ds"
   ]
  },
  {
   "cell_type": "code",
   "execution_count": 13,
   "metadata": {},
   "outputs": [
    {
     "data": {
      "text/plain": [
       "<matplotlib.axes._subplots.AxesSubplot at 0x159f8044b70>"
      ]
     },
     "execution_count": 13,
     "metadata": {},
     "output_type": "execute_result"
    },
    {
     "data": {
      "image/png": "[encoded data removed]",
      "text/plain": [
       "<Figure size 432x288 with 2 Axes>"
      ]
     },
     "metadata": {},
     "output_type": "display_data"
    }
   ],
   "source": [
    "seaborn.heatmap(tabela_ds, annot = False, fmt = 'd')"
   ]
  },
  {
   "cell_type": "code",
   "execution_count": 29,
   "metadata": {},
   "outputs": [
    {
     "data": {
      "text/html": [
       "<div>\n",
       "<style scoped>\n",
       "    .dataframe tbody tr th:only-of-type {\n",
       "        vertical-align: middle;\n",
       "    }\n",
       "\n",
       "    .dataframe tbody tr th {\n",
       "        vertical-align: top;\n",
       "    }\n",
       "\n",
       "    .dataframe thead th {\n",
       "        text-align: right;\n",
       "    }\n",
       "</style>\n",
       "<table border=\"1\" class=\"dataframe\">\n",
       "  <thead>\n",
       "    <tr style=\"text-align: right;\">\n",
       "      <th>Category</th>\n",
       "      <th>ASSAULT</th>\n",
       "      <th>LARCENY/THEFT</th>\n",
       "      <th>VANDALISM</th>\n",
       "      <th>VEHICLE THEFT</th>\n",
       "    </tr>\n",
       "    <tr>\n",
       "      <th>Time</th>\n",
       "      <th></th>\n",
       "      <th></th>\n",
       "      <th></th>\n",
       "      <th></th>\n",
       "    </tr>\n",
       "  </thead>\n",
       "  <tbody>\n",
       "    <tr>\n",
       "      <th>00:01</th>\n",
       "      <td>0.167975</td>\n",
       "      <td>0.593407</td>\n",
       "      <td>0.133438</td>\n",
       "      <td>0.105181</td>\n",
       "    </tr>\n",
       "    <tr>\n",
       "      <th>00:02</th>\n",
       "      <td>0.312500</td>\n",
       "      <td>0.437500</td>\n",
       "      <td>0.187500</td>\n",
       "      <td>0.062500</td>\n",
       "    </tr>\n",
       "    <tr>\n",
       "      <th>00:03</th>\n",
       "      <td>0.500000</td>\n",
       "      <td>0.312500</td>\n",
       "      <td>0.187500</td>\n",
       "      <td>0.000000</td>\n",
       "    </tr>\n",
       "    <tr>\n",
       "      <th>00:04</th>\n",
       "      <td>0.111111</td>\n",
       "      <td>0.777778</td>\n",
       "      <td>0.111111</td>\n",
       "      <td>0.000000</td>\n",
       "    </tr>\n",
       "    <tr>\n",
       "      <th>00:05</th>\n",
       "      <td>0.185185</td>\n",
       "      <td>0.629630</td>\n",
       "      <td>0.123457</td>\n",
       "      <td>0.061728</td>\n",
       "    </tr>\n",
       "    <tr>\n",
       "      <th>00:06</th>\n",
       "      <td>0.444444</td>\n",
       "      <td>0.444444</td>\n",
       "      <td>0.111111</td>\n",
       "      <td>0.000000</td>\n",
       "    </tr>\n",
       "    <tr>\n",
       "      <th>00:07</th>\n",
       "      <td>0.666667</td>\n",
       "      <td>0.166667</td>\n",
       "      <td>0.166667</td>\n",
       "      <td>0.000000</td>\n",
       "    </tr>\n",
       "    <tr>\n",
       "      <th>00:08</th>\n",
       "      <td>0.631579</td>\n",
       "      <td>0.315789</td>\n",
       "      <td>0.000000</td>\n",
       "      <td>0.052632</td>\n",
       "    </tr>\n",
       "    <tr>\n",
       "      <th>00:09</th>\n",
       "      <td>0.125000</td>\n",
       "      <td>0.250000</td>\n",
       "      <td>0.500000</td>\n",
       "      <td>0.125000</td>\n",
       "    </tr>\n",
       "    <tr>\n",
       "      <th>00:10</th>\n",
       "      <td>0.340426</td>\n",
       "      <td>0.425532</td>\n",
       "      <td>0.148936</td>\n",
       "      <td>0.085106</td>\n",
       "    </tr>\n",
       "  </tbody>\n",
       "</table>\n",
       "</div>"
      ],
      "text/plain": [
       "Category   ASSAULT  LARCENY/THEFT  VANDALISM  VEHICLE THEFT\n",
       "Time                                                       \n",
       "00:01     0.167975       0.593407   0.133438       0.105181\n",
       "00:02     0.312500       0.437500   0.187500       0.062500\n",
       "00:03     0.500000       0.312500   0.187500       0.000000\n",
       "00:04     0.111111       0.777778   0.111111       0.000000\n",
       "00:05     0.185185       0.629630   0.123457       0.061728\n",
       "00:06     0.444444       0.444444   0.111111       0.000000\n",
       "00:07     0.666667       0.166667   0.166667       0.000000\n",
       "00:08     0.631579       0.315789   0.000000       0.052632\n",
       "00:09     0.125000       0.250000   0.500000       0.125000\n",
       "00:10     0.340426       0.425532   0.148936       0.085106"
      ]
     },
     "execution_count": 29,
     "metadata": {},
     "output_type": "execute_result"
    }
   ],
   "source": [
    "tabela_ho = pd.crosstab(data_f.Time, data_f.Category, normalize = 'index')\n",
    "tabela_ho.head(10)"
   ]
  },
  {
   "cell_type": "code",
   "execution_count": 74,
   "metadata": {},
   "outputs": [
    {
     "data": {
      "text/plain": [
       "481.51085658426246"
      ]
     },
     "execution_count": 74,
     "metadata": {},
     "output_type": "execute_result"
    }
   ],
   "source": [
    "tabela_ho[\"ASSAULT\"].sum()"
   ]
  },
  {
   "cell_type": "code",
   "execution_count": null,
   "metadata": {},
   "outputs": [],
   "source": []
  },
  {
   "cell_type": "code",
   "execution_count": null,
   "metadata": {},
   "outputs": [],
   "source": []
  },
  {
   "cell_type": "code",
   "execution_count": null,
   "metadata": {},
   "outputs": [],
   "source": []
  },
  {
   "cell_type": "code",
   "execution_count": null,
   "metadata": {},
   "outputs": [],
   "source": []
  },
  {
   "cell_type": "markdown",
   "metadata": {},
   "source": [
    "## Conclusão"
   ]
  },
  {
   "cell_type": "markdown",
   "metadata": {},
   "source": [
    "## Fontes:\n"
   ]
  },
  {
   "cell_type": "code",
   "execution_count": null,
   "metadata": {},
   "outputs": [],
   "source": []
  }
 ],
 "metadata": {
  "kernelspec": {
   "display_name": "Python 3",
   "language": "python",
   "name": "python3"
  },
  "language_info": {
   "codemirror_mode": {
    "name": "ipython",
    "version": 3
   },
   "file_extension": ".py",
   "mimetype": "text/x-python",
   "name": "python",
   "nbconvert_exporter": "python",
   "pygments_lexer": "ipython3",
   "version": "3.7.3"
  }
 },
 "nbformat": 4,
 "nbformat_minor": 4
}
